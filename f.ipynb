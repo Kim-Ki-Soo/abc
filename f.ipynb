{
 "cells": [
  {
   "cell_type": "code",
   "execution_count": 8,
   "metadata": {},
   "outputs": [
    {
     "name": "stdout",
     "output_type": "stream",
     "text": [
      "\t\t1인가구\t\t2인가구\t\t3인가구\t\t4인가구\t   5인가구이상\n",
      "수도권\t          20361           52264           61396           66802           76959 \n",
      "비수도권          12512           35196           39031           46760           47235 \n",
      "Wall time: 138 ms\n"
     ]
    }
   ],
   "source": [
    "%%time\n",
    "import numpy as np\n",
    "asset = np.loadtxt(\"asset.csv\", delimiter = \",\", dtype = np.string_)\n",
    "seoul = asset[:, 0]\n",
    "seoul[seoul == b'G1'] = '1'\n",
    "seoul[seoul == b'G2'] = '2'\n",
    "asset = np.array(asset[:,1:], dtype = \"int64\")\n",
    "seoul = np.array(seoul, dtype = \"int64\")\n",
    "AssetList = np.zeros((5, 2))\n",
    "lookup_arr_family = np.array([2, 3, 4, 5, 20])\n",
    "text = [\"수도권\\t\", \"비수도권\"]\n",
    "print(\"\\t\\t1인가구\\t\\t2인가구\\t\\t3인가구\\t\\t4인가구\\t   5인가구이상\")\n",
    "begin_family = 1\n",
    "for i, end_family in enumerate(lookup_arr_family):\n",
    "    totalCondition = ((asset[:, 0] >= begin_family) & (asset[:, 0] < end_family))\n",
    "    seoulCondition = ((seoul == 1) & totalCondition)\n",
    "    lenNotSeoulCondition = len(asset[totalCondition]) - len(asset[seoulCondition])\n",
    "    totalAssetAverage = sum(asset[totalCondition][:, 2]) / len(asset[totalCondition])\n",
    "    SeoulAssetAverage = sum(asset[seoulCondition][:, 2]) / len(asset[seoulCondition])\n",
    "    NSeoulAssetAverage = (sum(asset[totalCondition][:, 2]) - sum(asset[seoulCondition][:, 2])) / lenNotSeoulCondition\n",
    "    AssetList[i][0] = int(SeoulAssetAverage)\n",
    "    AssetList[i][1] = int(NSeoulAssetAverage)\n",
    "    begin_family = end_family\n",
    "for i, a in enumerate(text):\n",
    "    print(text[i], end = '')\n",
    "    for j in range(len(AssetList.T[i])):\n",
    "        print(\"%15d \"% (int(AssetList.T[i][j])), end = '')\n",
    "    print()"
   ]
  },
  {
   "cell_type": "code",
   "execution_count": 3,
   "metadata": {},
   "outputs": [
    {
     "name": "stdout",
     "output_type": "stream",
     "text": [
      "\t\t1인가구\t\t2인가구\t\t3인가구\t\t4인가구\t     5인가구이상\n",
      "20대\t            4754           11468           11950            7926           14551 \n",
      "30대\t            8488           18861           24389           27595           27376 \n",
      "40대\t           15866           21338           33170           40675           40686 \n",
      "50대\t           11916           29255           43535           52297           52902 \n",
      "60대이상           14222           40955           48717           60094           62212 \n",
      "Wall time: 31.1 ms\n"
     ]
    }
   ],
   "source": [
    "%%time\n",
    "age = [\"20대\\t\", \"30대\\t\", \"40대\\t\", \"50대\\t\", \"60대이상\"]\n",
    "look_arr_age = np.array([30, 40, 50, 60, 200])\n",
    "start_age = 20\n",
    "print(\"\\t\\t1인가구\\t\\t2인가구\\t\\t3인가구\\t\\t4인가구\\t     5인가구이상\")\n",
    "for i, end_age in enumerate(look_arr_age):\n",
    "    print(age[i], end = ' ')\n",
    "    start_family = 1\n",
    "    for j, end_family in enumerate(lookup_arr_family):\n",
    "        totalCondition = (((asset[:, 1] >= start_age) & (asset[:, 1] < end_age)) & ((asset[:, 0] >= start_family) & (asset[:, 0] < end_family)))\n",
    "        totalAsset = sum(asset[totalCondition][:, 2]) / len(asset[totalCondition])\n",
    "        BitAsset = sum(asset[totalCondition][:, 3]) / len(asset[totalCondition])\n",
    "        start_family = end_family\n",
    "        print(\"%15d\" % (int(totalAsset)-int(BitAsset)), end = ' ')\n",
    "    start_age = end_age\n",
    "    print()  "
   ]
  }
 ],
 "metadata": {
  "kernelspec": {
   "display_name": "Python 3",
   "language": "python",
   "name": "python3"
  },
  "language_info": {
   "codemirror_mode": {
    "name": "ipython",
    "version": 3
   },
   "file_extension": ".py",
   "mimetype": "text/x-python",
   "name": "python",
   "nbconvert_exporter": "python",
   "pygments_lexer": "ipython3",
   "version": "3.7.1"
  }
 },
 "nbformat": 4,
 "nbformat_minor": 2
}
